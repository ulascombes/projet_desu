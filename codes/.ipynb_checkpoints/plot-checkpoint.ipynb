{
 "cells": [
  {
   "cell_type": "code",
   "execution_count": 1,
   "id": "87628748-9e54-4f7f-b603-48e2e8a30529",
   "metadata": {},
   "outputs": [],
   "source": [
    "# General import \n",
    "import numpy as np\n",
    "import matplotlib.pyplot as plt\n",
    "import pandas as pd\n",
    "\n",
    "# figure imports\n",
    "import plotly.graph_objects as go\n",
    "from plotly.subplots import make_subplots\n",
    "import plotly.express as px\n"
   ]
  },
  {
   "cell_type": "code",
   "execution_count": 3,
   "id": "7f0170d5-6f13-4778-a3b6-978858f28460",
   "metadata": {},
   "outputs": [],
   "source": [
    "rois = ['V1','V2','V3','V3AB','VO','LO','hMT+','sIPS','iIPS','mPCS','sPCS','iPCS']\n",
    "\n",
    "for i, roi in enumerate (rois) : \n",
    "    final_df = pd.read_table('/Users/uriel/Desktop/projet_desu/result/final_tsv/final_df_{roi}.tsv'.format(roi=roi))\n",
    "    final_df.models = final_df.models.replace('Gradien_Boosting', 'Gradient_Boosting')\n",
    "                             \n",
    "    fig2 = go.Figure()\n",
    "\n",
    "    models = final_df.models.dropna().unique()\n",
    "    models_color = px.colors.qualitative.Bold\n",
    "    models_color = [models_color[3],models_color[2],models_color[1],models_color[0]]\n",
    "\n",
    "    for j, model in enumerate(models):\n",
    "        df_type = final_df.loc[final_df.models == model]\n",
    "\n",
    "        accuracys_rounded = df_type.accuracys.round(3)\n",
    "\n",
    "        fig2.add_trace(go.Bar(x=df_type.N_labels, y=df_type.accuracys, \n",
    "                              name = model,\n",
    "                              marker=dict(color=models_color[j]),\n",
    "                              text=accuracys_rounded,\n",
    "                              textposition='outside',\n",
    "                              textfont=dict(color=models_color[j],size=11) \n",
    "                             ))\n",
    "\n",
    "\n",
    "    fig2.add_annotation(x=-0.3, y=1, showarrow=False, text=roi, font=dict(size=15))\n",
    "\n",
    "    fig2.update_layout(template='simple_white',height=400, width=800)\n",
    "    fig2.update_yaxes(title ='Decoding Accuracy',range=[0,1])\n",
    "    fig2.write_image('/Users/uriel/Desktop/projet_desu/result/figures/model_perf/accuracy_machine_learning_{roi}.png'.format(roi=roi))\n",
    "\n",
    "\n"
   ]
  },
  {
   "cell_type": "code",
   "execution_count": null,
   "id": "794d36ef-8975-4a21-956b-084e7b31fc70",
   "metadata": {},
   "outputs": [],
   "source": []
  }
 ],
 "metadata": {
  "kernelspec": {
   "display_name": "desu",
   "language": "python",
   "name": "desu"
  },
  "language_info": {
   "codemirror_mode": {
    "name": "ipython",
    "version": 3
   },
   "file_extension": ".py",
   "mimetype": "text/x-python",
   "name": "python",
   "nbconvert_exporter": "python",
   "pygments_lexer": "ipython3",
   "version": "3.9.13"
  }
 },
 "nbformat": 4,
 "nbformat_minor": 5
}
